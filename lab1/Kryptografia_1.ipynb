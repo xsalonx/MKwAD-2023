{
  "cells": [
    {
      "cell_type": "code",
      "execution_count": 958,
      "metadata": {},
      "outputs": [],
      "source": [
        "import numpy as np"
      ]
    },
    {
      "cell_type": "markdown",
      "metadata": {
        "id": "gEVzVj9P2_Zc"
      },
      "source": [
        "## Wstęp\n",
        "\n",
        "Dzisiaj zapoznasz się z jednym z najważniejszych zagadnień w kryptografii - czyli z funkcjami skrótu. Opowiemy sobie czym one są, do czego służą i gdzie są wykorzystywane na przykładzie standardu SHA-3."
      ]
    },
    {
      "cell_type": "markdown",
      "metadata": {
        "id": "xkB3GTRg331K"
      },
      "source": [
        "## Funkcje skrótu\n",
        "\n",
        "Zwane też: funkcje skracające, funkcje mieszające, funkcje haszujące, a z języka ang. *hashing functions*. W słowniku języka polskiego nie ma oficjalnej nazwy tych funkcji, dlatego podałem wszystkie z którymi możesz się spotkać w literaturze.\n",
        "\n",
        "Z natury są to funkcje jednokierunkowe, które jako wejście przyjmują ciąg binarny o potencjalnie nieograniczonej długości, a jako wyjście zwracają ciąg binarny zawsze tej samej długości:\n",
        "$$\n",
        "h: \\{0, 1\\}^* \\rightarrow  \\{0, 1\\}^n\n",
        "$$\n",
        "gdzie *h* oznacza funkcję skrótu, a *n* to długość zwracanego skrótu. Ta matematyczna definicja nie uwzględnia jednak pewnych dodatkowych właściowści, które funkcja skótu powinna posiadać. Są to:\n",
        "- skrót powinien być łatwy do obliczenia (wydajność),\n",
        "- dysponując funkcją skrótu *h* oraz skrótem oznaczonym jako *h(x)* powinno być niewykonalne (a przynajmniej bardzo, bardzo trudne) znalezienie wartości *x*. Ta własność jest określana jako bezpieczeństwo pierwszego preobrazu (z ang. *first preimage resistance*),\n",
        "- mając **podane** *h* oraz *x*, powinno być bardzo trudne odnalezienie wartości *y* takiej, że *h(x) = h(y)*. Ta własność jest określana jako bezpieczeństwo drugiego preobrazu (z ang. *second preimage resistance*),\n",
        "- powinno być także trudno znaleźć dwie **dowolne** wartości *x* oraz *y* takie, że *h(x) = h(y)*. Ta własność zwana jest odpornością na kolizje (z ang. *collision resistance*).\n",
        "\n",
        "Bezpieczeństwo funkcji skrótu podajemy w tzw. bitach bezpieczeństwa. Jeżeli funkcja skrótu posiada *b* bitów bezpieczeństwa odporności na dany atak, to znaczy, że atakujący musałby wykonać $2^b$ operacji aby atak się udał. Teoretyczne maksymalne wartości liczby bitów bezpieczeństwa to $n$ w przypadku ataków na pierwszy i drugi preobraz, oraz $\\frac{n}{2}$ w przypadku szukaniu kolizji (ta wartość wynika z [paradoksu urodzin](https://en.wikipedia.org/wiki/Birthday_problem)), gdzie tak jak poprzednio *n* oznacza długość zwracanego skrótu. Mówiąc o bezpieczeństwie trzeba jednak pamiętać o jednym. Każda funkcja skrótu jest do złamania. Wynika to z prostego faktu: posiadamy teoretycznie nieograniczoną liczbę wejść, a ograniczoną (choć za zwyczaj jest to wartość duża) liczbę wyjść.\n",
        "\n",
        "No dobrze, tylko gdzie my możemy funkcje skrótu wykorzystać? Obecnie wyszczególniłbym następujące schematy wykorzystujące funkcje skrótu:\n",
        "- przechowywanie haseł w bazie danych,\n",
        "- weryfikacja integralności danych (w szczególności schematy podpisu cyfrowego),\n",
        "- kryptografia post-quantum, w szczególności gałąź zwana *hash-based cryptography*, o której więcej możesz przeczytać [tutaj](https://en.wikipedia.org/wiki/Hash-based_cryptography).\n",
        "\n",
        "W historii były cztery światowe standardy: SHA-0, SHA-1, SHA-2 i SHA-3, gdzie skrót *SHA* oznacza z ang. *Secure Hash Algorithm*. Standaryzacją zajmuje się organizacja NIST (*National Institute of Standards and Technology*) ulokowana w USA. Mało popularny SHA-0 oraz znacznie popularniejszy SHA-1 są **niezalecane do użycia**. Zostały złamane. SHA-2 i SHA-3 to już nie pojedyncze funkcje skrótu, ale raczej ich rodziny. Oznaczenie SHA-256 mówi nam o funkcji skrótu z rodziny SHA-2 zwracającej 256 bitowy skrót. Analogicznie SHA3-256. Najbardziej popularne długości skrótu (choć oczywiście nie jedyne) to 256 i 512 bitów. Standardy SHA które nie zostały złamane i zaleca się je do użycia określamy mianem SHS (z ang. *Secure Hash Standard*)."
      ]
    },
    {
      "cell_type": "markdown",
      "metadata": {
        "id": "wlNKr6pwAUwg"
      },
      "source": [
        "## SHA-3\n",
        "\n",
        "Po serii udanych ataków na funkcję SHA-1, które miały miejsce w 2004 i 2005 roku, świat został z w zasadzie jednym standardem, SHA-2. NIST i specjaliści z całego świata byli zgodni, że to ryzykowane nie mieć żadnej bezpiecznej alternatywy - stąd w 2007 roku ogłoszono konkurs na SHA-3. Konkurs miał 3 rundy i trwał dość długo, bo wpłynęły aż 64 zgłoszenia. Ostatecznie w 2012 roku ogłoszono, że zwycięzcą został algorytm Keccaka i to on stał się nowym standardem, SHA-3. Dzisiaj go zaprogramujemy.\n",
        "\n",
        "Czy SHA-3 jest trudny do zaprogramowania? Powiem tak. Moim zdaniem, korzystając tylko z dokumentacji twórców trochę tak, bo jest kilka małych pułapek. Dlatego opiszę Ci krok po kroku co powinno się zrobić i będzie nieco łatwiej.\n",
        "\n",
        "Dla zainteresowanych przydatne linki: [strona twórców](https://keccak.team/keccak_specs_summary.html), [NIST FIPS PUB 202](https://nvlpubs.nist.gov/nistpubs/FIPS/NIST.FIPS.202.pdf) i ostatnia, **ważna** która przyda nam się na końcu ćwiczeń: [debug data](https://csrc.nist.gov/Projects/cryptographic-standards-and-guidelines/example-values) - interesuje nas wiersz SHA3-512 z tabeli.\n",
        "\n"
      ]
    },
    {
      "cell_type": "markdown",
      "metadata": {
        "id": "AfmSrvTFOE6F"
      },
      "source": [
        "### Krok 1 - stałe\n",
        "\n",
        "SHA-3 jest bardzo wszechstronny, pozwala dopasować wersję algorytmu do długości słowa bitowego obsługiwanego przez nasz procesor. Dla najbardziej popularnej długości obecnie, czyli 64 bity, stosuje się wersję algorytmu zwaną Keccak-1600. Można stosować inne, opisane w NIST FIPS PUB 202, ale my kierujemy się wydajnością. 1600 oznacza, że w każdej rundzie algorytmu będziemy operować na 1600 bitach danych, a więc 200 bajtach. Ta liczba oczywiście jest nieprzypadkowa. Zauważ, że 200 bajtów, to dokładnie 25 słów bitowych, każde po 64 bity. Te 25 słów bitowych formowane jest w dwuwymiarową tablicę 5x5. Ta tablica zwana jest przez twórców *State*.\n",
        "\n",
        "No dobrze, ale jak się do tego ma wiadomość? Tutaj z pomocą przychodzą dwie stałe: $r$ oraz $c$ opisane [tu](https://keccak.team/keccak.html). Stała $r$ oznacza *bit rate*, $c$ *capacity*, a ich wartości zależą od tego, jaką wersję algorytmu SHA-3 zastosujemy (my skupimy się na SHA3-512). SHA-3 działa na zasadzie funkcji gąbki, to znaczy w pętli głównej wchłaniana jest odpowiednia liczba bitów wiadomości do tablicy state, wykonujemy odpowiednie obliczenia, wchłaniamy kolejną porcję, liczymy itd. W naszym przypadku $r = 576$ bitów, a więc 72 bajty. $c$ to po prostu uzupełnienie, zauważ, że wchłaniana liczba bitów jest mniejsza niż rozmiar State, stąd dla $c = 1024$, $r + c = 1600$.\n",
        "\n",
        "$n$ oznacza liczbę rund. Po wchłonięciu porcji danych $n$ razy wykonujemy zestaw funkcji opisanych przez twórców (o których później), gdzie $n = 12 + 2l$. Z tabeli 1 w dokumentacji NIST można wyczytać, że dla wersji Keccak-1600, $l = 6$, a więc nasza liczba rund to $n = 24$.\n",
        "\n",
        "$RC$ to tablica 24 stałych, po jednej dla każdej z 24 rund, natomiast $rotations$ to tablica wartości, która mówi nam o ile mamy rotować słowo bitowe. Jest ona potrzebna w jednej funkcji z zestawu przedstawionego przez twórców.\n",
        "\n",
        "Zadeklarujmy nasze stałe. Dla wygody wartości $r$ oraz $c$ zadeklarujemy jako liczbę bajtów. "
      ]
    },
    {
      "cell_type": "code",
      "execution_count": 959,
      "metadata": {
        "id": "4hrOMGGATVG9"
      },
      "outputs": [],
      "source": [
        "n = 24\n",
        "r = 576 // 8\n",
        "c = 1024 // 8\n",
        "w = 64\n",
        "\n",
        "RC = np.array([0x0000000000000001,\n",
        "      0x0000000000008082,\n",
        "      0x800000000000808A,\n",
        "      0x8000000080008000,\n",
        "      0x000000000000808B,\n",
        "      0x0000000080000001,\n",
        "      0x8000000080008081,\n",
        "      0x8000000000008009,\n",
        "      0x000000000000008A,\n",
        "      0x0000000000000088,\n",
        "      0x0000000080008009,\n",
        "      0x000000008000000A,\n",
        "      0x000000008000808B,\n",
        "      0x800000000000008B,\n",
        "      0x8000000000008089,\n",
        "      0x8000000000008003,\n",
        "      0x8000000000008002,\n",
        "      0x8000000000000080,\n",
        "      0x000000000000800A,\n",
        "      0x800000008000000A,\n",
        "      0x8000000080008081,\n",
        "      0x8000000000008080,\n",
        "      0x0000000080000001,\n",
        "      0x8000000080008008], dtype=np.uint64)\n",
        "\n",
        "rotations = np.array(\n",
        "    [[0, 36, 3, 41, 18], \n",
        "     [1, 44, 10, 45, 2], \n",
        "     [62, 6, 43, 15, 61], \n",
        "     [28, 55, 25, 21, 56], \n",
        "     [27, 20, 39, 8, 14]], dtype=np.uint64)"
      ]
    },
    {
      "attachments": {},
      "cell_type": "markdown",
      "metadata": {
        "id": "EodJOWLNMsN4"
      },
      "source": [
        "### Krok 2 - Padding\n",
        "\n",
        "Zauważ, że w każdej głównej iteracji algorytmu wchłaniamy 72 bajty wiadomości (wartość $r$). Jest bardzo mało prawdopodobne, że nasza wiadomość będzie akurat miała długość w bajtach równą 72 lub wielokrotności 72. Tutaj z pomocą przychodzi *padding*, czyli uzupełnianie wiadomości do wymaganej długości. Wskazówka: jako *wiadomość* rozum ciąg bajtów, czyli *bytearray* z którym będziemy robić sporo rzeczy.\n",
        "\n",
        "SHA-3 stosuje metodę pad10*1, czyli w zamyśle dołącz do wiadomości bit 1, następnie odpowiednią liczbę bitów 0 i zamknij ciąg bitem 1. W SHA-3 ten algorytm jest wzbogacony o stałą 0x06:\n",
        "\n",
        "1) Oblicz q = r - (len(msg) mod r). Zauważ, że $r$ i $len(m)$ zwracają długości w bajtach.\n",
        "\n",
        "2) Jeżeli q = 1 wykonaj: dołącz do wiadomości bajt 0x81.\n",
        "\n",
        "3) Jeżeli q = 2 wykonaj: dołącz do wiadomości bajt 0x06, a następnie dołącz do wiadomości bajt 0x80.\n",
        "\n",
        "4) Jeżeli q > 2 wykonaj: dołącz do wiadomości bajt 0x06, następnie dołącz do wiadomości dokładnie $q - 2$ bajty 0x00 i na końcu dołącz do wiadomości bajt 0x80.\n",
        "\n",
        "Sprawdź reprezentację bitową 0x80 oraz 0x81, jak wspominałem stała 0x06 to już dodatek autorów. Czy widzisz w powyższym algorytmie coś dziwnego? Jakiego porządku bitów używa SHA-3? W każdym przypadku, po operacji paddingu len(msg) powinno być wielokrotnością 72."
      ]
    },
    {
      "cell_type": "markdown",
      "metadata": {
        "id": "W5To137vWc3N"
      },
      "source": [
        "**Zadanie 1**\n",
        "\n",
        "Napisz ciało metody pad10*1. Parametrem metody jest tablica bajtów wiadomości (bytearray)."
      ]
    },
    {
      "cell_type": "code",
      "execution_count": 960,
      "metadata": {
        "id": "6HMzphulBVFS"
      },
      "outputs": [],
      "source": [
        "def pad(msg, r=r):\n",
        "    q = r - (len(msg) % r) # bytes\n",
        "    if q == 1:\n",
        "        msg += bytearray([0x86])\n",
        "    else:\n",
        "        msg += bytearray([0x06])\n",
        "        msg += bytearray([0x00 for _ in range(q - 2)])\n",
        "        msg += bytearray([0x80])\n",
        "\n",
        "    assert len(msg) % r == 0\n",
        "    return msg\n"
      ]
    },
    {
      "cell_type": "code",
      "execution_count": 961,
      "metadata": {},
      "outputs": [],
      "source": [
        "def print_bytes_sequence(B: bytearray):\n",
        "    line_s = 16 # bytes\n",
        "    assert line_s % 2 == 0\n",
        "\n",
        "    iters = len(B) // line_s + (len(B) % line_s > 0)\n",
        "    for i in range(iters):\n",
        "        line = B[i * line_s : (i+ 1) * line_s].hex() \n",
        "        line = [line[i * 2 : (i+1) * 2] for i in range(line_s)]\n",
        "        line = \" \".join(line)\n",
        "        print(line)\n",
        "\n",
        "def print_state_el_by_el(S):\n",
        "    for i in range(5):\n",
        "        for j in range(5):\n",
        "            print(f\"[{j}, {i}] = {bytearray(reversed(S[j, i].tobytes())).hex()}\")"
      ]
    },
    {
      "cell_type": "code",
      "execution_count": 962,
      "metadata": {},
      "outputs": [
        {
          "name": "stdout",
          "output_type": "stream",
          "text": [
            "72\n",
            "06 00 00 00 00 00 00 00 00 00 00 00 00 00 00 00\n",
            "00 00 00 00 00 00 00 00 00 00 00 00 00 00 00 00\n",
            "00 00 00 00 00 00 00 00 00 00 00 00 00 00 00 00\n",
            "00 00 00 00 00 00 00 00 00 00 00 00 00 00 00 00\n",
            "00 00 00 00 00 00 00 80        \n"
          ]
        }
      ],
      "source": [
        "p = pad(bytearray(\"\", \"ascii\"))\n",
        "print(len(p))\n",
        "print_bytes_sequence(p)"
      ]
    },
    {
      "cell_type": "markdown",
      "metadata": {
        "id": "KSPS48JSXTt7"
      },
      "source": [
        "### Krok 3 - funkcje pomocnicze\n",
        "\n",
        "Będziemy potrzebowali operować na wartości State na dwa sposoby: raz jako na tablicy bajtów o długości 1600 (potrzebne przy wchłanianiu danych), a raz jako na dwuwymiarowej tablicy 64-bitowych słów o rozmiarach 5x5 (potrzebne w dalszej części). Musimy napisać łącznie trzy funkcje pomocnicze:\n",
        "\n",
        "1) convertToInts(state) - ta funkcja powinna pobierać State w formie wektora bajtów i zwracać tablicę 5x5. Algorytm jest taki, że licząc od początku pobieramy po 8 bajtów (64 bity) i przypisujemy do nowego State'a (oznaczmy go jako State'), ale uwaga, dane układamy wierszami. A więc bajty 0-7 wektora State konwertujemy na liczbę i przypisujemy do State'[0][0], bajty 8-15 ze State przypisujemy jako liczbę do State'[1][0] itd. Dodatkowo, konwertując bajty na liczby używamy porządku **Little Endian**.\n",
        "\n",
        "2) convertToBytes(state) - ta funkcja pobiera State jako dwuwymiarową tablicę i konwertuje z poworotem na wektor bajtów State' (nowy State). Dane również pobieramy wierszami i dekodujemy w porządku **Little Endian**. A więc liczba przechowywana w State[0][0] jest kodowana jako 8 pierwszych bajtów State', liczba w State[1][0] jako 8 kolejnych bajtów itd. Czyli robimy funkcję odwrotną do poprzedniej. Funkcja zwraca State' o rozmiarze 1600 bajtów.\n",
        "\n",
        "3) rot(a, b) - ta funkcja dokonuje bitowej rotacji 64 bitowej liczby $a$ w lewo o $b$ bitów."
      ]
    },
    {
      "cell_type": "markdown",
      "metadata": {
        "id": "AskmpirVaKUr"
      },
      "source": [
        "**Zadanie 2**\n",
        "\n",
        "Uzupełnij ciała metod convertToBytes oraz convertToInts zgodnie z powyższym opisem."
      ]
    },
    {
      "cell_type": "code",
      "execution_count": 963,
      "metadata": {
        "id": "4wZLyuXoX26t"
      },
      "outputs": [],
      "source": [
        "def convertToInts(state):\n",
        "  assert type(state) == bytearray\n",
        "  return np.frombuffer(state, dtype=np.uint64).reshape((5, 5)).T\n",
        "  # m_state = np.full(shape=(5, 5), fill_value=0, dtype=np.uint64)\n",
        "  # for i in range(5):\n",
        "  #   for j in range(5):\n",
        "  #     beg = (i * 5 + j) * 8\n",
        "  #     a = int.from_bytes(state[beg:beg+8], byteorder='little')\n",
        "  #     m_state[j][i] = a\n",
        "  # return m_state\n",
        "\n",
        "\n",
        "def convertToBytes(state: np.array):\n",
        "  return state.tobytes('F')\n",
        "  \n",
        "  # v_state = bytearray()\n",
        "  # for i in range(5):\n",
        "  #   v_state += state[:, i].tobytes()\n",
        "  # return v_state\n",
        "\n",
        "def rot(a, b, bit_no=np.uint64(64)):\n",
        "  b = np.uint64(b)\n",
        "  return (a << b) | (a >> (bit_no - b) )"
      ]
    },
    {
      "cell_type": "markdown",
      "metadata": {
        "id": "qeuomyBScMxn"
      },
      "source": [
        "### Krok 4 - permutacje\n",
        "\n",
        "SHA-3 wykorzystuje zestaw pięciu permutacji, które wykorzystywane są w każdej pojedynczej rundzie (*rundzie*, nie iteracji pętli głównej algorytmu). Nie są one skomplikowane, dlatego nie będziemy pisali oddzielnej funkcji do każdej z nich. Każda z nich korzysta ze State'a jako tablicy liczby 5x5.\n",
        "\n",
        "1) Krok $Θ$ wykonaj:\n",
        "- C[i] = state[i][0] xor state[i][1] xor state[i][2] xor state[i][3] xor state[i][4] dla i = 0,...,4. C to wektor pomocniczy.\n",
        "- D[i] = C[i-1] xor rot(C[i+1], 1) dla i = 0,...,4, D to wektor pomocniczy.\n",
        "- state[i][j] = state[i][j] xor D[i], dla i,j = 0,...,4.\n",
        "\n",
        "2) Kroki $ρ$ oraz $π$ wykonaj: B[j][2 * i + 3 * j] = rot(state[i][j], rotations[i][j]), B to zmienna pomocnicza.\n",
        "\n",
        "3) Krok $Χ$ wykonaj: state[i][j] = B[i][j] xor ((~B[i + 1][j]) & B[i + 2][j]).\n",
        "\n",
        "4) Krok $ι$ wykonaj: state[0][0] = state[0][0] xor RC. RC to stała, którą będziemy przekazywać do funkcji realizującej te permutacje."
      ]
    },
    {
      "cell_type": "markdown",
      "metadata": {
        "id": "b6u89lmAfuvl"
      },
      "source": [
        "Ostatecznie mamy do napisania dwie funkcje w pythonie: *compute* i *oneRound*.\n",
        "\n",
        "Funkcja *compute(state)* przyjmuje jako parametr State w formie wektora bajtów i wykonuje następujące czynności:\n",
        "\n",
        "1) Przekonwertuj State do formy tablicy liczb.\n",
        "\n",
        "2) Wykonuj *state = oneRound(state, RC[i])* dla i = 0,...,n-1\n",
        "\n",
        "3) Przekonwertuj State do wektora bajtów.\n",
        "\n",
        "4) Zwróc State.\n",
        "\n",
        "Funkcja *oneRound(state, RC)* wykonuje obliczenia dla pojedynczej rundy:\n",
        "\n",
        "1) Utwórz niezbędne zmienne pomocnicze.\n",
        "\n",
        "2) Wykonaj krok $Θ$.\n",
        "\n",
        "3) Wykonaj kroki $ρ$ oraz $π$.\n",
        "\n",
        "4) Wykonaj krok $Χ$.\n",
        "\n",
        "5) Wykonaj krok $ι$.\n",
        "\n",
        "6) Zwróć State."
      ]
    },
    {
      "cell_type": "markdown",
      "metadata": {
        "id": "_owGLju_h3Od"
      },
      "source": [
        "**Zadanie 3**\n",
        "\n",
        "Uzupełnij ciała metod *compute* i *oneRound* zgodnie z algorytmem opisanym powyżej."
      ]
    },
    {
      "cell_type": "code",
      "execution_count": 964,
      "metadata": {},
      "outputs": [],
      "source": [
        "def compute(state: np.array, debug=False):\n",
        "  for i in range(n):\n",
        "    if debug:\n",
        "      print(f\"round: {i}\")\n",
        "    state = oneRound(state, RC[i])\n",
        "  \n",
        "  return state\n",
        "\n",
        "def oneRound(S, RC, debug=False):\n",
        "  # theta\n",
        "  C = np.bitwise_xor.reduce(S, axis=1)\n",
        "  D = np.roll(C, 1) ^ rot(np.roll(C, -1), 1)\n",
        "  S = S ^ D.reshape((-1, 1))\n",
        "  if debug:\n",
        "    print(\"after theta\")\n",
        "    print_bytes_sequence(convertToBytes(S))\n",
        "\n",
        "\n",
        "  # rho and pi\n",
        "  B = np.full(shape=(5, 5), fill_value=0, dtype=np.uint64)\n",
        "  for j in range(5):\n",
        "    for i in range(5):\n",
        "      B[i, (2 * j + 3 * i) % 5] = rot(S[j][i], rotations[j][i])\n",
        "  if debug:\n",
        "    print(\"after rho & pi\")\n",
        "    print_bytes_sequence(convertToBytes(B))\n",
        "\n",
        "  # chi\n",
        "  S = B ^ (np.bitwise_not(np.roll(B, -1, axis=0)) & np.roll(B, -2, axis=0))\n",
        "  if debug:\n",
        "    print(\"after chi\")\n",
        "    print_bytes_sequence(convertToBytes(S))\n",
        "\n",
        "  # iota\n",
        "  S[0, 0] ^= RC\n",
        "  if debug:\n",
        "    print(\"after iota\")\n",
        "    print_bytes_sequence(convertToBytes(S))\n",
        "  return S"
      ]
    },
    {
      "cell_type": "markdown",
      "metadata": {
        "id": "4NTQeHwJiR30"
      },
      "source": [
        "### Krok 5 - główna pętla algorytmu\n",
        "\n",
        "Wreszcie możemy napisać funkcję główną liczącą skrót *sha3-512*. Przyjmuje ona jako parametr bajty wiadomości $m$ i zwraca bajty skrótu:\n",
        "\n",
        "1) Dokonaj paddingu wiadomości.\n",
        "\n",
        "2) Wchłoń $r$ bajtów wiadomości do State'a. \"Wchłanianie\" oznacza tu operację XOR kolejnych bajtów wiadomości z $r$ początkowymi bajtami State'a.\n",
        "\n",
        "3) Wywołaj metodę *compute(state)*.\n",
        "\n",
        "4) Powtarzaj kroki 2 i 3 dopóki cała wiadomość nie zostanie wchłonięta.\n",
        "\n",
        "5) Zwróć pierwsze 64 bajty State'a. To jest nasz 512-bitowy skrót."
      ]
    },
    {
      "cell_type": "markdown",
      "metadata": {
        "id": "e1w8TPGWjwqe"
      },
      "source": [
        "**Zadanie 4**\n",
        "\n",
        "Uzupełnij kod poniższej metody tak, aby zwracała skrót z wiadomości. Przetestuj tę metodę, czy działa prawidłowo. Tablicę bajtów przez nią zwróconą trzeba przekonwertować na ciąg znaków hexadecymalnych i wypisać na ekranie. Przetestuj funkcję dla poniższych ciągów znakowych:\n",
        "\n",
        "1) \"\"\n",
        "\n",
        "2) \"aaaaaaaaaaaaaaaaaaaaaaaaaaaaaaaaaaaaaaaaaaaaaaaaaaaaaaaaaaaaaaaaaaaaaaaa\"\n",
        "\n",
        "3) \"aaaaaaaaaaaaaaaaaaaaaaaaaaaaaaaaaaaaaaaaaaaaaaaaaaaaaaaaaaaaaaaaaaaaaaaaaaaaaaaa\"\n",
        "\n",
        "Porównaj, czy skróty zgadzają się ze zwróconymi z [tego](https://www.browserling.com/tools/sha3-hash) kalkulatora lub zaimportuj bibliotekę hashlib i porównaj swoje wyniki z jej wynikami."
      ]
    },
    {
      "cell_type": "code",
      "execution_count": 965,
      "metadata": {
        "id": "zuldPFoOktqs"
      },
      "outputs": [],
      "source": [
        "def sha3_512(m, encoding=\"ascii\", debug=False):\n",
        "  msg_bytes = bytearray(m, encoding)\n",
        "  P = pad(msg_bytes, 72)\n",
        "  if debug:\n",
        "    print(\"padded=\")\n",
        "    print_bytes_sequence(P)\n",
        "\n",
        "  S = np.full(shape=(5, 5), fill_value=0, dtype=np.uint64)\n",
        "  \n",
        "  # Absorbing phase\n",
        "  msg_block_size = 72\n",
        "  op_block_size = 200\n",
        "  for msg_block_id in range(len(P) // msg_block_size):\n",
        "    op_block = P[msg_block_id * msg_block_size : (msg_block_id + 1) * msg_block_size]\n",
        "    op_block += bytearray([0]) * (op_block_size - msg_block_size)\n",
        "\n",
        "    if debug:\n",
        "      print(\"data to be absorbed=\")\n",
        "      print_bytes_sequence(op_block)\n",
        "\n",
        "    op_block = convertToInts(op_block)\n",
        "    S ^= op_block\n",
        "    if debug:\n",
        "      print(\"xor'd state=\")\n",
        "      print_bytes_sequence(convertToBytes(S))\n",
        "      print_state_el_by_el(S)\n",
        "    S = compute(S)\n",
        "\n",
        "  return convertToBytes(S)[:64]\n",
        "  "
      ]
    },
    {
      "cell_type": "code",
      "execution_count": 966,
      "metadata": {},
      "outputs": [],
      "source": [
        "def sha3(m, r, res_len, encoding=\"ascii\", debug=False):\n",
        "  msg_bytes = bytearray(m, encoding)\n",
        "  P = pad(msg_bytes, r)\n",
        "  if debug:\n",
        "    print(\"padded=\")\n",
        "    print_bytes_sequence(P)\n",
        "\n",
        "  S = np.full(shape=(5, 5), fill_value=0, dtype=np.uint64)\n",
        "  \n",
        "  # Absorbing phase\n",
        "  msg_block_size = r\n",
        "  op_block_size = 200\n",
        "  for msg_block_id in range(len(P) // msg_block_size):\n",
        "    op_block = P[msg_block_id * msg_block_size : (msg_block_id + 1) * msg_block_size]\n",
        "    op_block += bytearray([0]) * (op_block_size - msg_block_size)\n",
        "\n",
        "    if debug:\n",
        "      print(\"data to be absorbed=\")\n",
        "      print_bytes_sequence(op_block)\n",
        "\n",
        "    op_block = convertToInts(op_block)\n",
        "    S ^= op_block\n",
        "    if debug:\n",
        "      print(\"xor'd state=\")\n",
        "      print_bytes_sequence(convertToBytes(S))\n",
        "      print_state_el_by_el(S)\n",
        "    S = compute(S)\n",
        "\n",
        "  return convertToBytes(S)[:res_len]\n",
        "  "
      ]
    },
    {
      "cell_type": "code",
      "execution_count": 967,
      "metadata": {
        "id": "jXHijtPGky-3"
      },
      "outputs": [
        {
          "data": {
            "text/plain": [
              "'69de75e1d11430f35ec5875efb7fb4dae76a29ef68dad771cf671986b40448041ff52a0c0dcc18830c4c895fdff25a6807c5266d9e63ed8881210e0eac73d260'"
            ]
          },
          "execution_count": 967,
          "metadata": {},
          "output_type": "execute_result"
        }
      ],
      "source": [
        "# TESTS\n",
        "m = \"a\" * 1600\n",
        "out = sha3_512(m)\n",
        "out.hex()"
      ]
    },
    {
      "cell_type": "code",
      "execution_count": 968,
      "metadata": {},
      "outputs": [],
      "source": [
        "from time import time\n",
        "import matplotlib.pyplot as plt\n",
        "import hashlib"
      ]
    },
    {
      "cell_type": "code",
      "execution_count": 969,
      "metadata": {},
      "outputs": [
        {
          "name": "stdout",
          "output_type": "stream",
          "text": [
            "0 1 2 3 4 5 6 7 8 9 10 11 12 13 14 15 16 17 18 19 20 21 22 23 24 25 26 27 28 29 30 31 32 33 34 35 36 37 38 39 40 41 42 43 44 45 46 47 48 49 50 51 52 53 54 55 56 57 58 59 60 61 62 63 64 65 66 67 68 69 70 71 72 73 74 75 76 77 78 79 80 81 82 83 84 85 86 87 88 89 90 91 92 93 94 95 96 97 98 99 "
          ]
        }
      ],
      "source": [
        "sub_measurs_no = 5\n",
        "measures_my = []\n",
        "measures_lib = []\n",
        "for i, msg_len in enumerate(range(0, 1000, 10)):\n",
        "    print(i, end =\" \")\n",
        "\n",
        "    # my implementation\n",
        "    msg = \"a\" * msg_len\n",
        "    t1 = time()\n",
        "    for _ in range(sub_measurs_no):\n",
        "        my_res = sha3(msg, 72, 64).hex()\n",
        "    t2 = time()\n",
        "    measures_my.append((t2 - t1) / sub_measurs_no)\n",
        "\n",
        "    # lib implementation\n",
        "    t1 = time()\n",
        "    for _ in range(sub_measurs_no):\n",
        "        lib_res = hashlib.sha3_512(msg.encode()).hexdigest()\n",
        "    t2 = time()\n",
        "    measures_lib.append((t2 - t1) / sub_measurs_no)\n",
        "\n",
        "    assert lib_res == my_res\n"
      ]
    },
    {
      "cell_type": "code",
      "execution_count": 977,
      "metadata": {},
      "outputs": [
        {
          "data": {
            "text/plain": [
              "<matplotlib.legend.Legend at 0x7fb7a01b3d60>"
            ]
          },
          "execution_count": 977,
          "metadata": {},
          "output_type": "execute_result"
        },
        {
          "data": {
            "image/png": "[encoded data removed]",
            "text/plain": [
              "<Figure size 640x480 with 1 Axes>"
            ]
          },
          "metadata": {},
          "output_type": "display_data"
        }
      ],
      "source": [
        "X_ = np.arange(len(measures_lib)) * 10\n",
        "plt.scatter(X_, measures_my)\n",
        "plt.scatter(X_, measures_lib)\n",
        "plt.legend([\"my\", \"lib\"])\n"
      ]
    },
    {
      "cell_type": "markdown",
      "metadata": {
        "id": "xKc39ziTpnPK"
      },
      "source": [
        "**Zadanie 5**\n",
        "\n",
        "Porównaj szybkość działania Twojej implementacji SHA3-512 z implementacjami SHA3-512 oraz SHA-512 dostępnymi w bibliotece hashlib. Postaraj się aby porównanie uwzględniało zarówno dane bardzo małe, jak i duże (na ile Ci pozwoli collab), a wyniki przedstaw na wykresie."
      ]
    },
    {
      "cell_type": "markdown",
      "metadata": {
        "id": "YcRhMDB6t9_z"
      },
      "source": [
        "**Zadanie 6**\n",
        "\n",
        "Przerób powyższy kod tak, aby stał się funkcją SHA3-256."
      ]
    },
    {
      "cell_type": "code",
      "execution_count": 976,
      "metadata": {},
      "outputs": [
        {
          "data": {
            "text/plain": [
              "'a7ffc6f8bf1ed76651c14756a061d662f580ff4de43b49fa82d80a4b80f8434a'"
            ]
          },
          "execution_count": 976,
          "metadata": {},
          "output_type": "execute_result"
        }
      ],
      "source": [
        "sha3(\"\", 136, 32).hex()"
      ]
    },
    {
      "cell_type": "code",
      "execution_count": 975,
      "metadata": {},
      "outputs": [],
      "source": [
        "for i in range(100):\n",
        "    msg = \"A\" * i\n",
        "    assert sha3(msg, 136, 32).hex() == hashlib.sha3_256(msg.encode()).hexdigest()"
      ]
    },
    {
      "cell_type": "code",
      "execution_count": null,
      "metadata": {},
      "outputs": [],
      "source": []
    }
  ],
  "metadata": {
    "colab": {
      "provenance": []
    },
    "kernelspec": {
      "display_name": "Python 3",
      "name": "python3"
    },
    "language_info": {
      "codemirror_mode": {
        "name": "ipython",
        "version": 3
      },
      "file_extension": ".py",
      "mimetype": "text/x-python",
      "name": "python",
      "nbconvert_exporter": "python",
      "pygments_lexer": "ipython3",
      "version": "3.9.12"
    }
  },
  "nbformat": 4,
  "nbformat_minor": 0
}
