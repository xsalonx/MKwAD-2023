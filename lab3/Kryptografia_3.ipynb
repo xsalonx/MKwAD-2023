{
  "cells": [
    {
      "cell_type": "markdown",
      "metadata": {
        "id": "O4N_EaD6qK27"
      },
      "source": [
        "# RSA\n",
        "\n",
        "Rivest Shamir Adleman (RSA) jest jednym z pierwszych algorytmów asymetrycznych. Został zaprojektowany w 1977 roku i jest używany do dzisiejszego dnia. Zyskał akceptację zarówno NISTu jak i organizacji ISO/IEC oraz RFC. RSA posiada parę kluczy - publiczny oraz prywatny. Publiczny klucz może być znany każdemu i służy on do operacji szyfrowania. Klucz prywatny jest znany tylko i wyłącznie instancji, która klucze generowała. Ta sama instancja jako jedna jedyna ma możliwość odszyfrowania kryptogramów.\n",
        "\n",
        "RSA umożliwia także tworzenie podpisów cyfrowych (z ang *Digital Signatures*, czyli *DS*). Podpis cyfrowy to dodatkowy blok informacji dołączony do wiadomości, który zapewnia:\n",
        "1. *Integrity* - integralność wiadomości, czyli potwierdzenie, że nie była ona w żaden sposób modyfikowana.\n",
        "2. *Authentication* - autentykacje podpisującego, czyli potwierdzenie jego tożsamości.\n",
        "3. *Non-repudiation* - czyli wysyłający podpisaną wiadomość nie ma możliwości zaprzeczenia faktu, że to on ją podpisał, natomiast otrzymujący wiadomość nie ma możliwości zaprzeczenia faktu, iż to on ją zweryfikował. \n",
        "\n",
        "Samo haszowanie wiadomości zapewnia tylko *integirty*, natomiast utworzenie kodu MAC (*Message Authentiaction Code*) zapewnia jedynie *integrity* oraz *authentiaction*.\n",
        "\n",
        "Tworzenie podpisu cyfrowego z wykorzystaniem RSA wygląda odwrotnie niż komunikacja szyfrowana. To znaczy: podpis tworzony jest z wykorzystaniem klucza prywatnego - a więc tylko instancja generująca klucze może wiadomość podpisać. Weryfikacja odbywa się z wykorzystaniem klucza publicznego - czyli każda instancja, której nasz klucz udostępnimy, może podpis zweryfikować. \n",
        "\n",
        "Na początek zaimportujmy niezbędne biblioteki."
      ]
    },
    {
      "cell_type": "code",
      "execution_count": 57,
      "metadata": {
        "id": "F7OxWY2Mz7BD"
      },
      "outputs": [],
      "source": [
        "# !pip install pycryptodome\n",
        "import Crypto.Util.number as cu\n",
        "import hashlib as hl\n",
        "import math\n",
        "import numpy as np"
      ]
    },
    {
      "cell_type": "markdown",
      "metadata": {
        "id": "64vuvjiEuP3M"
      },
      "source": [
        "**Zadanie 1**\n",
        "\n",
        "Odpowiedz na poniższe pytania. Rozważ sytuację, w której dwie instancje komunikują się ze sobą, a trzecia próbuje dokonywać nieautoryzowanych zmian w treści wiadomości na drodze jej przesyłu.\n",
        "1. Dlaczego haszowanie zapewnia tylko integrity? Podpowiedź: czy haszowanie uwzględnia jakikolwiek klucz prywatny?\n",
        "2. Dlaczego kod MAC nie zapewnia *non-repudiation*? Co (niepożądanego) może dokonać odbierający wiadomość i atakujący komunikację? Podpowiedź: czy kody MAC, w szczególności popularny kod HMAC - który zakłada użycie klucza prywatnego - w jakikolwiek sposób weryfikuje KTO i DO CZEGO go użył? Kto dysponuje, a kto NIE dysponuje kluczem prywatnym HMAC?\n",
        "3. Dlaczego podpis cyfrowy zapewnia wszystkie te trzy cechy?"
      ]
    },
    {
      "cell_type": "markdown",
      "metadata": {
        "id": "2qE7Uzp2xXKM"
      },
      "source": [
        "## Generowanie kluczy\n",
        "\n",
        "Algorytm generowania kluczy RSA może zostać przedstawiony w następujący sposób:\n",
        "\n",
        "1) Znajdź dwie różne i kryptograficznie bezpieczne liczby pierwsze.\n",
        "\n",
        "2) Oblicz $n = p * q$.\n",
        "\n",
        "3) Oblicz $f = (p - 1) * (q - 1)$.\n",
        "\n",
        "4) Znajdź dowolne $e$, takie, że $1 < e < f$ oraz $GCD(f, e) = 1$. GCD to największy wspólny dzielnik. Para $(e, n)$ to jest **klucz publiczny**.\n",
        "\n",
        "5) Oblicz $d = e^{-1}$ mod $f$. Para $(d, n)$ to **klucz prywatny**, przy czym tajne jest tylko $d$. "
      ]
    },
    {
      "attachments": {},
      "cell_type": "markdown",
      "metadata": {
        "id": "1MRcuBhC0UHA"
      },
      "source": [
        "W ten sposób generowane parametry byłyby matematycznie poprawne, lecz kryptograficznie niebezpieczne. Ustalmy więc, że chcemy aby nasz klucz publiczny był odpwowiednio długi. Będzie to długość bitowa parametru $n$, oznaczmy ją jako $nlen = 2048$. Parametr $nlen$ zawsze przyjmuje parzyste wartości. Mając to założenie, musimy (**uwzględniając wszystkie założenia z algorytmu generowania kluczy**) dodatkowo zapewnić, że:\n",
        "\n",
        "1. $65537 ≤ e < 2^{256}$\n",
        "2. $LCM(p - 1, q - 1) \\geq e * 2^{nlen/2}$\n",
        "3. $2^{(nlen - 1)//2} < p < 2^{nlen/2}$\n",
        "4. $2^{(nlen - 1)//2} < q < 2^{nlen/2}$\n",
        "5. $|p - q| > 2^{(nlen/2) - 100}$\n",
        "\n",
        "Gdzie LCM oznacza *Least Common Multiple*, czyli najmniejszą wspólną wielokrotność. Funkcję LCM znajdziesz w bibliotece math. Do potęgowania **nie używaj** pythonowej notacji \"**\", tylko metody pow() - przetestuj obie te metody obliczania potęgi i porównaj wydajność (zadanie opcjonalne). Do obliczania wartości bezwzględnej użyj metody abs() - również standardowa metoda pythona. Resztę niezbędnych metod znajdziesz w bibliotece [Crypto.Util.number](https://pycryptodome.readthedocs.io/en/latest/src/util/util.html) zaimportowanej jako cu. Opis powyższych założeń możesz znaleźć w [tym](https://nvlpubs.nist.gov/nistpubs/SpecialPublications/NIST.SP.800-56Br2.pdf) dokumencie NIST-owym."
      ]
    },
    {
      "cell_type": "markdown",
      "metadata": {
        "id": "5inlXTklGGMv"
      },
      "source": [
        "**Zadanie 2**\n",
        "\n",
        "Uwzględniając wszystko powyższe, napisz metodę/metody generujące wartości $n$, $e$ oraz $d$."
      ]
    },
    {
      "cell_type": "code",
      "execution_count": 58,
      "metadata": {
        "id": "tRiOWsS7GRL9"
      },
      "outputs": [],
      "source": [
        "# your code here\n",
        "def generate_rsa_pair(nlen):\n",
        "    assert nlen % 2 == 0\n",
        "\n",
        "    # 1, 2\n",
        "    p, q = 1, 1\n",
        "    n = p * q\n",
        "    while not p != q or\\\n",
        "          not len(bin(n)) - 2 != nlen or\\\n",
        "          not (nlen - 1)//2 < math.log2(p) < nlen/2 or\\\n",
        "              not (nlen - 1)//2 < math.log2(q) < nlen/2 or\\\n",
        "                not math.log2(abs(p - q)) > nlen/2 - 100 :\n",
        "        p = cu.getPrime(nlen // 2)\n",
        "        q = cu.getPrime(nlen // 2)\n",
        "        n = p * q\n",
        "\n",
        "    # 3\n",
        "    f = (p - 1) * (q - 1)\n",
        "    # 4\n",
        "    # e = f - 1\n",
        "    e = 65537\n",
        "    while math.gcd(e, f) != 1:\n",
        "        e += 2\n",
        "    \n",
        "    d = cu.inverse(e, f)\n",
        "\n",
        "    return (d, n), (e, n)\n",
        "    "
      ]
    },
    {
      "cell_type": "code",
      "execution_count": 59,
      "metadata": {},
      "outputs": [
        {
          "data": {
            "text/plain": [
              "((9855319013780190897338674181995065410349132093974266114341000358392723945158896667366545954299548367141197181367718112425481543222567794625485152766966751128386063200889095810122689257037685055462839004771696011473989101764744396684322018154341970322932871205962804459601079410395367098790888556699764087966465212190560989651200730427676248605180470861322264638583006280390433168115375623337773100656964271759336333517103665845210178899397939339389237538355272196178461600992939624573192567062087755786730782323374447901673274215034794179327001512342014495795648149412112343351747388470989594581652830831601072671985,\n",
              "  13132610349439070611989847705774685897239865602106288445682691645073074482409796488333156890873276835780013819594488673377023787120845544231028027670462770296064361432976875119108834245018070950345005893532646933918320193614656856685381076486948674495832857147435734941012483049064315675520687717873051909907477966776850628541785519684960809095146924069337215370331759499178175364517553267770361127710043381204215309760240084657510482805605241687480211227649763047253567884653588347705278371483756556543055267159445038094591427701377242277220144074782725626510628704816721323827580985750436239182874533424086421566711),\n",
              " (65537,\n",
              "  13132610349439070611989847705774685897239865602106288445682691645073074482409796488333156890873276835780013819594488673377023787120845544231028027670462770296064361432976875119108834245018070950345005893532646933918320193614656856685381076486948674495832857147435734941012483049064315675520687717873051909907477966776850628541785519684960809095146924069337215370331759499178175364517553267770361127710043381204215309760240084657510482805605241687480211227649763047253567884653588347705278371483756556543055267159445038094591427701377242277220144074782725626510628704816721323827580985750436239182874533424086421566711))"
            ]
          },
          "execution_count": 59,
          "metadata": {},
          "output_type": "execute_result"
        }
      ],
      "source": [
        "generate_rsa_pair(2048)"
      ]
    },
    {
      "cell_type": "markdown",
      "metadata": {
        "id": "wae-whoNGlz_"
      },
      "source": [
        "## Naiwne szyfrowanie i deszyfrowanie"
      ]
    },
    {
      "cell_type": "markdown",
      "metadata": {
        "id": "fESNrzCYNVfy"
      },
      "source": [
        "\n",
        "Naiwny algorytm szyfrowania wiadomości **M** z wykorzystaniem RSA:\n",
        "\n",
        "1) Zakoduj $M$ jako liczbę.\n",
        "\n",
        "2) Oblicz: $C = M^e$ mod $n$."
      ]
    },
    {
      "cell_type": "markdown",
      "metadata": {
        "id": "FQvVgWWrHBX2"
      },
      "source": [
        "Naiwny algorytm deszyfrowania kryptogramu **C** z wykorzystaniem RSA:\n",
        "\n",
        "1) $M = C^d$ mod $n$.\n",
        "\n",
        "2) Zdekoduj wiadomość $M$ do jej pierwotnej postaci (np. stringa). \n"
      ]
    },
    {
      "cell_type": "markdown",
      "metadata": {
        "id": "mFRFP0BsHc9l"
      },
      "source": [
        "**Zadanie 3**\n",
        "\n",
        "Napisz metody szyfrujące i deszyfrujące wiadomość $M$ zgodnie z powyższym algorytmem. Zaszyfruj wiadomość, zdeszyfruj i wypisz oryginalny tekst na ekranie. Odpowiedz na pytanie: jaki warunek musi spełniać liczbowa reprezentacja wiadomości $M$, aby można ją było poprawnie zaszyfrować i zdeszyfrować?"
      ]
    },
    {
      "cell_type": "code",
      "execution_count": 60,
      "metadata": {
        "id": "N3y7NMf_HkuB"
      },
      "outputs": [],
      "source": [
        "def encrypt_with_rsa(M, public):\n",
        "    m = cu.bytes_to_long(M)\n",
        "    mlen = len(M)\n",
        "    C = pow(m, *public)\n",
        "    return cu.long_to_bytes(C, mlen)\n",
        "\n",
        "\n",
        "def decrypt_with_rsa(C, private):\n",
        "    clen = len(C)\n",
        "    C = cu.bytes_to_long(C)\n",
        "    M = pow(C, *private)\n",
        "    return cu.long_to_bytes(M, clen)"
      ]
    },
    {
      "cell_type": "code",
      "execution_count": 61,
      "metadata": {},
      "outputs": [],
      "source": [
        "priv_k, pub_k = generate_rsa_pair(2048)"
      ]
    },
    {
      "cell_type": "code",
      "execution_count": 62,
      "metadata": {},
      "outputs": [
        {
          "name": "stdout",
          "output_type": "stream",
          "text": [
            "message: Ala ma kota\n",
            "cipher   : b'\\x00\\x00\\x00\\x00\\x00\\x00\\x00\\x00\\x1b\\x81\\xfdX\\x99\\\\\\x8f6MS\\x17Y\\xc3\\x80\\x80\\x07\\xf3[\\xa5\\xf4\\xc7\\xccc\\xd5F\\xb0>ni\\xa5t\\xa6y\\xc1+\\xe9P^\\x98\\x83\\xda\\xad\\x1d\\x13\\xc5\\xb4[0\\xbf\\xcc\\x8cF\\x01\\x9f\\xe4G?\\xf5\\x87\\x9bp\\xd7\\x16\\x02K\\x80j\\x01^\\xbaL,w\\x92\\xc2\\x9df\\xaf[\\x9fV\\xf8\\xd0>\\xbf\\xb5\\xf7\\xce\\xec\\xd5\\x96@\\xcf\\xa7F\\xd1\\x970\\xb5:\\x15?A8)\\xaec\\x98\\xd2,\\xfb\\xd9\\xf0\\xfa\\xfa\\x83\\xe4\\xf3\\x93\\xd3\\xd0\\xfaI\\xa2d6\\xa4\\xaf\\x08\\x87a\\xb0\\xaf\\xc6Q\\xf2\\xac5\\xc0u!\\xa40\\xa9*\\xf9\\xad\\xef\\x99\\x80\\xd2\\x18\\xef\\xc1\\xf9\\xa3\\x86Y\\x03&\\xcd\\xce/Y\\xea$:\\x04p\\xa6\\xe4\\x1dp\\xed3\\x94:(r\\xffLE\\xec\\x0f\\xd4t)/\\xed\\xb6\\x9c\\xa0\\xb5T\\xc65\\xe4\\xb8\\xd7\\xb0\\x10\\xa0\\xf7\\xb733U\\xdf\\xea\\xae2\\\\\\xcdb\\xc6U\\x04B\\xb1\\x9f\\xcb\\n\\x12 j8DoM5?\\x9c\\x87;D\\xc1\\xd9\\x1c\\xa9\\xf2)\\xe5\\x1e\\xa3G\\xe0\\x10\\xe9\\x0f\\xe3\\xcb\\xf2\\xf5t\\xbb\\x93'\n",
            "decrypted: \u0000\u0000\u0000\u0000\u0000\u0000\u0000\u0000\u0000\u0000\u0000\u0000\u0000\u0000\u0000\u0000\u0000\u0000\u0000\u0000\u0000\u0000\u0000\u0000\u0000\u0000\u0000\u0000\u0000\u0000\u0000\u0000\u0000\u0000\u0000\u0000\u0000\u0000\u0000\u0000\u0000\u0000\u0000\u0000\u0000\u0000\u0000\u0000\u0000\u0000\u0000\u0000\u0000\u0000\u0000\u0000\u0000\u0000\u0000\u0000\u0000\u0000\u0000\u0000\u0000\u0000\u0000\u0000\u0000\u0000\u0000\u0000\u0000\u0000\u0000\u0000\u0000\u0000\u0000\u0000\u0000\u0000\u0000\u0000\u0000\u0000\u0000\u0000\u0000\u0000\u0000\u0000\u0000\u0000\u0000\u0000\u0000\u0000\u0000\u0000\u0000\u0000\u0000\u0000\u0000\u0000\u0000\u0000\u0000\u0000\u0000\u0000\u0000\u0000\u0000\u0000\u0000\u0000\u0000\u0000\u0000\u0000\u0000\u0000\u0000\u0000\u0000\u0000\u0000\u0000\u0000\u0000\u0000\u0000\u0000\u0000\u0000\u0000\u0000\u0000\u0000\u0000\u0000\u0000\u0000\u0000\u0000\u0000\u0000\u0000\u0000\u0000\u0000\u0000\u0000\u0000\u0000\u0000\u0000\u0000\u0000\u0000\u0000\u0000\u0000\u0000\u0000\u0000\u0000\u0000\u0000\u0000\u0000\u0000\u0000\u0000\u0000\u0000\u0000\u0000\u0000\u0000\u0000\u0000\u0000\u0000\u0000\u0000\u0000\u0000\u0000\u0000\u0000\u0000\u0000\u0000\u0000\u0000\u0000\u0000\u0000\u0000\u0000\u0000\u0000\u0000\u0000\u0000\u0000\u0000\u0000\u0000\u0000\u0000\u0000\u0000\u0000\u0000\u0000\u0000\u0000\u0000\u0000\u0000\u0000\u0000\u0000\u0000\u0000\u0000\u0000\u0000\u0000\u0000\u0000\u0000\u0000\u0000\u0000\u0000\u0000\u0000\u0000\u0000\u0000\u0000\u0000\u0000\u0000\u0000\u0000\u0000\u0000Ala ma kota\n",
            "b'\\x00\\x00\\x00\\x00\\x00\\x00\\x00\\x00\\x00\\x00\\x00\\x00\\x00\\x00\\x00\\x00\\x00\\x00\\x00\\x00\\x00\\x00\\x00\\x00\\x00\\x00\\x00\\x00\\x00\\x00\\x00\\x00\\x00\\x00\\x00\\x00\\x00\\x00\\x00\\x00\\x00\\x00\\x00\\x00\\x00\\x00\\x00\\x00\\x00\\x00\\x00\\x00\\x00\\x00\\x00\\x00\\x00\\x00\\x00\\x00\\x00\\x00\\x00\\x00\\x00\\x00\\x00\\x00\\x00\\x00\\x00\\x00\\x00\\x00\\x00\\x00\\x00\\x00\\x00\\x00\\x00\\x00\\x00\\x00\\x00\\x00\\x00\\x00\\x00\\x00\\x00\\x00\\x00\\x00\\x00\\x00\\x00\\x00\\x00\\x00\\x00\\x00\\x00\\x00\\x00\\x00\\x00\\x00\\x00\\x00\\x00\\x00\\x00\\x00\\x00\\x00\\x00\\x00\\x00\\x00\\x00\\x00\\x00\\x00\\x00\\x00\\x00\\x00\\x00\\x00\\x00\\x00\\x00\\x00\\x00\\x00\\x00\\x00\\x00\\x00\\x00\\x00\\x00\\x00\\x00\\x00\\x00\\x00\\x00\\x00\\x00\\x00\\x00\\x00\\x00\\x00\\x00\\x00\\x00\\x00\\x00\\x00\\x00\\x00\\x00\\x00\\x00\\x00\\x00\\x00\\x00\\x00\\x00\\x00\\x00\\x00\\x00\\x00\\x00\\x00\\x00\\x00\\x00\\x00\\x00\\x00\\x00\\x00\\x00\\x00\\x00\\x00\\x00\\x00\\x00\\x00\\x00\\x00\\x00\\x00\\x00\\x00\\x00\\x00\\x00\\x00\\x00\\x00\\x00\\x00\\x00\\x00\\x00\\x00\\x00\\x00\\x00\\x00\\x00\\x00\\x00\\x00\\x00\\x00\\x00\\x00\\x00\\x00\\x00\\x00\\x00\\x00\\x00\\x00\\x00\\x00\\x00\\x00\\x00\\x00\\x00\\x00\\x00\\x00\\x00\\x00\\x00\\x00\\x00\\x00\\x00\\x00\\x00Ala ma kota'\n",
            "b'Ala ma kota'\n"
          ]
        }
      ],
      "source": [
        "M = 'Ala ma kota'\n",
        "\n",
        "print(f\"message: {M}\")\n",
        "C = encrypt_with_rsa(M.encode(), pub_k)\n",
        "print(f\"cipher   : {C}\")\n",
        "D = decrypt_with_rsa(C, priv_k)\n",
        "print(f\"decrypted: {D.decode()}\")\n",
        "\n",
        "print(D)\n",
        "print(M.encode())"
      ]
    },
    {
      "cell_type": "markdown",
      "metadata": {
        "id": "NjF8Fr_dN0s6"
      },
      "source": [
        "## Naiwny schemat podpisu cyfrowego"
      ]
    },
    {
      "cell_type": "markdown",
      "metadata": {
        "id": "AsvkSf9zN4i8"
      },
      "source": [
        "Naiwna metoda tworzenia podpisu z wiadmości $M$:\n",
        "\n",
        "1) Oblicz $h = H(M)$. H to uzgodniona funkcja skrótu, niech to będzie SHA-256.\n",
        "\n",
        "2) Zakoduj $h$ jako liczbę.\n",
        "\n",
        "3) Oblicz $SIG = h^d$ mod $n$.\n",
        "\n",
        "4) Wyślij parę $(M, SIG)$ weryfikującemu."
      ]
    },
    {
      "cell_type": "markdown",
      "metadata": {
        "id": "xcMiT4DhOoOt"
      },
      "source": [
        "Naiwna metoda weryfikacji podpisu $(M, SIG)$:\n",
        "\n",
        "1) Oblicz $h = H(M)$. H to uzgodniona funkcja skrótu, niech to będzie SHA-256.\n",
        "\n",
        "2) Zakoduj $h$ jako liczbę.\n",
        "\n",
        "3) Oblicz $VER = SIG^e$ mod $n$.\n",
        "\n",
        "4) Jeżeli $VER = h$, weryfikacja przebiegła pomyślnie, a w przeciwnym razie niepomyślnie."
      ]
    },
    {
      "cell_type": "markdown",
      "metadata": {
        "id": "Jx86zFg6PDDs"
      },
      "source": [
        "**Zadanie 4**\n",
        "\n",
        "Zaimplementuj naiwną metodę tworzenia i weryfikowania podpisu cyfrowego RSA."
      ]
    },
    {
      "cell_type": "code",
      "execution_count": 63,
      "metadata": {
        "id": "Y7OSfmf0PJ2Q"
      },
      "outputs": [],
      "source": [
        "# Your code here\n",
        "def naive_fingerprint(M, priv_k):\n",
        "    d, n = priv_k\n",
        "    h = hl.sha3_256(M.encode()).hexdigest()\n",
        "    h = int(h, 16)\n",
        "    sig = pow(h, d, n)\n",
        "    return M, sig\n",
        "def naive_verify_fingerprint(M, sig, pub_k):\n",
        "    e, n = pub_k\n",
        "    h = hl.sha3_256(M.encode()).hexdigest()\n",
        "    h = int(h, 16)\n",
        "    ver = pow(sig, e, n)\n",
        "    return ver == h"
      ]
    },
    {
      "cell_type": "code",
      "execution_count": 64,
      "metadata": {},
      "outputs": [
        {
          "data": {
            "text/plain": [
              "True"
            ]
          },
          "execution_count": 64,
          "metadata": {},
          "output_type": "execute_result"
        }
      ],
      "source": [
        "M, sig = naive_fingerprint(M, priv_k)\n",
        "naive_verify_fingerprint(M, sig, pub_k)"
      ]
    },
    {
      "cell_type": "markdown",
      "metadata": {
        "id": "-6MsXDuaIj2C"
      },
      "source": [
        "## MGF 1\n",
        "\n",
        "W dalszej części laboratoriów będziemy potrzebowali generować maskę. Jedynym zatwierdzonym algorytmem który do tego służy jest *Mask Generation Function 1*, opisany w [RFC 8017](https://www.rfc-editor.org/rfc/rfc8017). Jest on stosunkowo prosty. "
      ]
    },
    {
      "cell_type": "markdown",
      "metadata": {
        "id": "wXuwYrpsJzkU"
      },
      "source": [
        "Parametry wejściowe:\n",
        "\n",
        "1) M - bajty wiadomości.\n",
        "\n",
        "2) len - pożądana długość zwórconej maski w bajtach.\n",
        "\n",
        "3) H - wybrana funkcja skrótu, zwracająca $n$ bitowy skrót. Niech to będzie SHA-256. Dla wygody przyjmijmy też, że $hlen = n / 8$ oznacza liczbę bajtów zwracaną przez naszą funkcję skrótu.\n",
        "\n",
        "Wyjściem funkcji są bajty tworzące maskę."
      ]
    },
    {
      "cell_type": "markdown",
      "metadata": {
        "id": "oriQJLCvJ0vM"
      },
      "source": [
        "Algorytm MGF-1:\n",
        "\n",
        "1) Dla 32-biotwego integera $i = 0, ..., ⌈ \\frac{len}{hlen}⌉ - 1$ wykonuj kroki 2 i 3.\n",
        "\n",
        "2) Oblicz tmp = H(M || i). Znak || to konkatenacja i chodzi tu o bajty wiadomości M oraz reprezentację w bajtach 32-bitowego itegera $i$.\n",
        "\n",
        "3) Oblicz output = output || tmp.\n",
        "\n",
        "4) Zwróc $len$ wiodących bajtów zmiennej output."
      ]
    },
    {
      "cell_type": "markdown",
      "metadata": {
        "id": "o-AkA1mHK7cp"
      },
      "source": [
        "**Zadanie 5**\n",
        "\n",
        "Zaprogramuj i przetestuj dla dowolnych wartości funkcję MGF1."
      ]
    },
    {
      "cell_type": "code",
      "execution_count": 65,
      "metadata": {
        "id": "rrBuKJWZLCV9"
      },
      "outputs": [],
      "source": [
        "# Your code here\n",
        "def mgf1(M, rlen=256, H=None, hlen=0):\n",
        "    if H is None:\n",
        "        H = lambda b : hl.sha3_256(b).digest()\n",
        "        hlen = 256 / 8 # TODO\n",
        "    if type(M) == str:\n",
        "        M = M.encode()\n",
        "\n",
        "    out = bytes()\n",
        "    for i in range(math.ceil(rlen / hlen)):\n",
        "        tmp = H(M + cu.long_to_bytes(i, 4))\n",
        "        out += tmp\n",
        "    return out[:rlen]"
      ]
    },
    {
      "cell_type": "code",
      "execution_count": 66,
      "metadata": {},
      "outputs": [],
      "source": [
        "# mgf1 tests\n",
        "for _ in range(100000):\n",
        "    rl = 223\n",
        "    m = cu.Random.get_random_bytes(32)\n",
        "    h = mgf1(m, rlen=rl)\n",
        "    if not len(h) == rl:\n",
        "        print(m)\n",
        "        print(len(h), rl)\n",
        "    assert len(h) == rl"
      ]
    },
    {
      "cell_type": "code",
      "execution_count": 67,
      "metadata": {},
      "outputs": [
        {
          "name": "stdout",
          "output_type": "stream",
          "text": [
            "1000\n"
          ]
        },
        {
          "data": {
            "text/plain": [
              "b'\\xf9c\\xbdZ\\x96\\xed\\x14\\xb7\\xf27\\xd1\\x15 Z\\xc0\\x08\\x06)\\x1b$\\x13U;|$\\x81\\xa4\\x1d\\xad\\x8e\\xae\\xd7#$1\\x0e\\xfe\"\\xa3\\xe35\\xc0\\x11\\x00S\\x93\\xbcr\\x05\\x9dE\\xe4\\xb7}F\\x1e\\x98\\xf8>s\\xa9\\xa4V\\x8d\\x0f0v\\x1f]T\\xfaN\\xb5\\xa7\\xe4\\x01\\x02\\x8f\\xdc|\\x84\\xab\\n\\xda\\xe1\\x80\\x81SH\\thu\\x96\\xa5\\xd9)\\x07z\\xd6\\xc7\\xb1\\xfd\\x05\\xb2\\xdb!*$=\\xaf\\xb0\\xb2\\xc8Qk\\x97H\\xfb\\xc7K\\xfc\\xdb\\xdef\\xc2\\xfa\\xc6\\xcd\\x8f\\xe6\\xea\\xcf\\x8d\\x8a\\x05SOd\\xfb9:\\xc5\\xf9^\\xc5\\xaf\\xd1\\xe51\\xfd\\xecaD\\x02\\xc1\\x18`\\xa1\\xdc`\\x93\\xb0o2\\x01%-\\xc6\\x1c\\xbe\\x9ee\\'\\xe8\\x93[\\xdc\\xee\\xf3K\\xb7\\xa6<Y\\x96C\\x05\\n\\x91t.+0\\xb9\\xb3\\x90VW\\xc9\\xd87\\xd5\\xf3;L\\xa7v\\x04V|\\n\\xfd\\x19\\x16r\\x00n\\x07\\x8d\\xfd}\\x95\\xe1\\x152#\\xca\\xf7\\x8dW\\xdb\\xa1\\xb3\\xaeEl\\xc9\\x9a\\xc5\\x9b\\x9b\\xb9\\x0c-q\\xdb\\x9f|\\x14V\\xd7\\xba\\x10\\xef\\xb5\\x16'"
            ]
          },
          "execution_count": 67,
          "metadata": {},
          "output_type": "execute_result"
        }
      ],
      "source": [
        "l = 1000\n",
        "rl = len(mgf1(M.encode(),  rlen=l))\n",
        "print(rl)\n",
        "assert rl == l\n",
        "mgf1(M.encode())"
      ]
    },
    {
      "cell_type": "markdown",
      "metadata": {},
      "source": []
    },
    {
      "cell_type": "markdown",
      "metadata": {
        "id": "K3gM9vGyPtna"
      },
      "source": [
        "## OAEP\n",
        "\n",
        "Nasz schemat ma na ten moment jedną sporą wadę, mianowicie rozmiar szyfrowanej wiadomości może być zbyt mały, czyniąc algorytm mniej bezpiecznym. Aby tego uniknąć, używamy algorytmu paddingu opisanego w [RFC 8017](https://www.rfc-editor.org/rfc/rfc8017#section-8), który zwie się *Optimal Assymetric Encryption Padding*."
      ]
    },
    {
      "cell_type": "markdown",
      "metadata": {
        "id": "PFJW4wW5QjjH"
      },
      "source": [
        "### OAEP encoding"
      ]
    },
    {
      "cell_type": "markdown",
      "metadata": {
        "id": "0BTXF8j6Reel"
      },
      "source": [
        "Parametry wejściowe:\n",
        "\n",
        "1) $H$ - funkcja skrótu SHA-256, oraz $hlen$ czyli długość zwracanego skrótu w bajtach.\n",
        "\n",
        "2) $k$ - długość liczby $n$ wyrażona w bajtach.\n",
        "\n",
        "3) $mlen$ - długość wiadomości wyrażona w bajtach.\n",
        "\n",
        "4) $M$ - bajty wiadomości.\n",
        "\n",
        "5) $mgf1$ - Mask Generation Function 1."
      ]
    },
    {
      "cell_type": "markdown",
      "metadata": {
        "id": "YWse9bSFRfmu"
      },
      "source": [
        "Algorytm:\n",
        "\n",
        "1) Jeżeli $mlen > k - 2*hlen - 2$ zwróc błąd.\n",
        "\n",
        "2) Oblicz: $lHash = H(\"\")$.\n",
        "\n",
        "3) Wygeneruj tablicę bajtów $PS$ składającą się z $k - mlen - 2*hlen - 2$ bajtów o wartości 0x00. Rozmiar $PS$ może wynosić 0.\n",
        "\n",
        "4) Oblicz: $DB = lHash || PS || 0x01 || M$. Długość $DB$ powinna wynosić $k - hlen - 1$ bajtów.\n",
        "\n",
        "5) Wygeneruj losową tablicę bajtów $seed$ o rozmiarze $hlen$.\n",
        "\n",
        "6) Oblicz: $dbMask = mgf1(seed, k - hlen - 1)$.\n",
        "\n",
        "7) Oblicz: $maskedDB = DB ⊕ dbMask$.\n",
        "\n",
        "8) Oblicz: $seedMask = mgf1(maskedDB, hlen)$.\n",
        "\n",
        "9) Oblicz: $maskedSeed = seed ⊕ seedMask$.\n",
        "\n",
        "10) Oblicz: $EM = 0x00 || maskedSeed || maskedDB$. Długość $EM$ powinna wynosić $k$.\n",
        "\n",
        "11) Zwróc $EM$."
      ]
    },
    {
      "cell_type": "markdown",
      "metadata": {
        "id": "lwJfZ28SUeKC"
      },
      "source": [
        "### OAEP decoding"
      ]
    },
    {
      "cell_type": "markdown",
      "metadata": {
        "id": "i21JfT9TUlXN"
      },
      "source": [
        "Parametry wejściowe:\n",
        "\n",
        "1) $H$ - funkcja skrótu SHA-256, oraz $hlen$ czyli długość zwracanego skrótu w bajtach.\n",
        "\n",
        "2) $k$ - rozmiar EM wyrażony w bajtach.\n",
        "\n",
        "3) $mgf1$ - Mask Generation Function 1.\n",
        "\n",
        "4) $EM$ - bajty zakodowanej wiadomości."
      ]
    },
    {
      "cell_type": "markdown",
      "metadata": {
        "id": "Toe-FHBzU1n-"
      },
      "source": [
        "Algorytm:\n",
        "\n",
        "1) Rozpakuj tablicę bajtów $EM$. Jej pierwszy bajt (najbardziej znaczący) przypisz do $Y$. Kolejne $hlen$ bajtów przypisz do $maskedSeed$, resztę do $maskedDB$. Czyli $EM = Y || maskedSeed || maskedDB$.\n",
        "\n",
        "2) Oblicz: $lHash = H(\"\")$.\n",
        "\n",
        "3) Oblicz: $seedMask = mgf1(maskedDB, hlen)$.\n",
        "\n",
        "4) Oblicz: $seed = maskedSeed ⊕ seedMask$.\n",
        "\n",
        "5) Oblicz: $dbMask = mgf1(seed, k - hlen - 1)$.\n",
        "\n",
        "6) Oblicz: $DB = maskedDB ⊕ dbMask$.\n",
        "\n",
        "7) Rozpkauj tablicę bakjtów $DB$. Pierwsze (najbardziej znaczące) $hlen$ bajtów przypisz do zmiennej $lHash'$. Następne $k - mlen - 2*hlen - 2$ bajtów do PS. Kolejny pojedynczy bajt powinien wynosić 0x01, jeżeli jest inaczej zwróć błąd i **zakończ działanie**. Resztę bajtów przypsiz do zmiennej $M$. Czyli: $DB = lHash' || PS || 0x01 || M$. \n",
        "\n",
        "8) Jeżeli $Y \\neq 0x00$ zwróć błąd i **zakończ działanie**.\n",
        "\n",
        "9) Jeżeli $lHash \\neq lHash'$ zwróć błąd i **zakończ działanie**.\n",
        "\n",
        "10) Zwróc $M$."
      ]
    },
    {
      "cell_type": "markdown",
      "metadata": {
        "id": "A0yx2wepX4n1"
      },
      "source": [
        "**Zadanie 6**\n",
        "\n",
        "Zaproogramuj kodowanie i dekodowanie OAEP. Zmodyfikuj algorytm szyfrowania RSA, tak, aby przed zaszyfrowaniem wiadomość była paddingowana. Zmodyfikuj algorytm deszyfrowania tak, aby po zdeszyfrowaniu konieczne było wywołanie metody dekodowania OAEP w celu odzyskania wiadomości."
      ]
    },
    {
      "cell_type": "code",
      "execution_count": 68,
      "metadata": {
        "id": "sA1oCpziYT6z"
      },
      "outputs": [],
      "source": [
        "M = \"Ala ma kota\"\n",
        "\n",
        "# Your code here\n",
        "def enc_with_oaep(M, pub_k, k=256, H=None, hlen=None):\n",
        "    if H is None:\n",
        "        H = lambda mb: hl.sha3_256(mb).digest()\n",
        "        hlen = 256 // 8\n",
        "\n",
        "    if type(M) == str:\n",
        "        Mb = M.encode()\n",
        "    else:\n",
        "        Mb = M\n",
        "        \n",
        "    mlen = len(Mb)\n",
        "    assert not mlen > k - 2 * hlen - 2\n",
        "\n",
        "    lHash = H(\"\".encode())\n",
        "    PS = bytes([0x00] * (k - mlen - 2*hlen - 2))\n",
        "    DB = lHash + PS + bytes([0x01]) + Mb\n",
        "    assert len(DB) == k - hlen - 1\n",
        "\n",
        "    seed = [cu.getRandomInteger(8) for _ in range(hlen)]\n",
        "    seed = bytes(seed)\n",
        "    dbMask = mgf1(seed, k - hlen - 1)\n",
        "    maskedDB = bytes(np.uint8(list(DB)) ^ np.uint8(list(dbMask)))\n",
        "    seedMask = mgf1(maskedDB, hlen)\n",
        "    maskedSeed = bytes(np.uint8(list(seed)) ^ np.uint8(list(seedMask)))\n",
        "    EM = bytes([0x00]) + maskedSeed + maskedDB\n",
        "    assert len(EM) == k\n",
        "\n",
        "    return encrypt_with_rsa(EM, pub_k)\n",
        "    # return cu.long_to_bytes(pow(cu.bytes_to_long(EM), *pub_k))\n",
        "\n",
        "\n",
        "def dec_with_oaep(EM: bytes, priv_k, mlen, k=256, H=None, hlen=None):\n",
        "    if H is None:\n",
        "        H = lambda mb: hl.sha3_256(mb).digest()\n",
        "        hlen = 256 // 8\n",
        "    \n",
        "    EM = decrypt_with_rsa(EM, priv_k)\n",
        "\n",
        "    Y = EM[0]\n",
        "    maskedSeed = EM[1:hlen+1]\n",
        "    maskedDB = EM[hlen + 1:]\n",
        "    lHash = H(\"\".encode())\n",
        "    seedMask = mgf1(maskedDB, hlen)\n",
        "    seed = bytes([a ^ b for a, b in zip(maskedSeed, seedMask)])\n",
        "    dbMask = mgf1(seed, k - hlen - 1)\n",
        "    DB = bytes([a ^ b for a,b in zip(maskedDB, dbMask)])\n",
        "\n",
        "    lHash_ = DB[:hlen]\n",
        "    offset = hlen\n",
        "    nex = k - mlen - 2*hlen - 2\n",
        "    PS = DB[offset: offset + nex]\n",
        "    offset += nex\n",
        "    assert DB[offset] == 0x01\n",
        "    offset += 1\n",
        "    M = DB[offset:]\n",
        "\n",
        "    assert Y == 0x00\n",
        "    assert lHash == lHash_\n",
        "\n",
        "    return M\n"
      ]
    },
    {
      "cell_type": "code",
      "execution_count": 78,
      "metadata": {},
      "outputs": [
        {
          "name": "stdout",
          "output_type": "stream",
          "text": [
            "Message: Ala ma podpis\n",
            "Aft. OAEP: b\"Z\\x9b6 \\x01Xa\\xb6W\\xe78\\x99\\xb8>T\\x01\\x01\\xe8\\x81\\x9a-\\xab\\x93\\x8c\\xb7IG)[\\x11,q\\x14]f\\x0cf^\\x00\\xab^a\\xe8\\x11\\xe6\\x9cx&\\x904\\xf4\\x91zig\\x9bn\\xee\\x0c8-\\x98\\x19 \\xe0\\x8f\\x1d\\xb4:\\x06\\xb3\\xff\\xfdM\\xad8\\xdc\\xbe\\xeb}&\\x1ds\\xe5\\xb4\\xc6\\xc5`|\\xb5pN}\\xec\\xefnhH\\r\\x8f|\\xc6\\xd73)b>\\r\\xda,\\xbd[\\xc9\\x12\\xc0\\xb0\\xfc\\xfd\\xcf\\xdb\\xe2\\xae\\x08\\xad\\xeb1\\\\[\\x14\\x17\\xa1\\x10(\\xe9\\x15\\xce\\x1co\\xd6\\xbao$GeiWi\\r1\\xcbp\\x04U\\xb7\\xfeJ\\xa7`\\x07q\\xd7\\xce\\xacK/Sa\\xe3\\xb3\\x94\\xab\\x8eI\\x10y\\xedZ\\xa3\\xbbK:\\n]\\xdfI\\xca`>`:kt7\\x85@\\x88=\\xaaE7\\x8eL?\\xcdV\\xcfZJ\\xfa\\n*\\xb4\\\\\\x8e\\xea-\\xaa\\x82\\x80+\\x96P\\xf4\\xf6\\xb9<%q\\xaf1\\x00'\\xcb\\x87\\x1c\\x15\\xb3\\xf9\\xd7\\x93b\\x1d\\xbd\\xf5\\xa4\\xff8F\\xe1\\x99\\x04F^\\xccoE\"\n",
            "Ret. OAEP: b'Ala ma podpis'\n"
          ]
        }
      ],
      "source": [
        "priv_k, pub_k = generate_rsa_pair(2048)\n",
        "\n",
        "EM = enc_with_oaep(M, pub_k)\n",
        "D = dec_with_oaep(EM, priv_k, mlen=len(M))\n",
        "print(f\"Message: {M}\")\n",
        "print(f\"Aft. OAEP: {EM}\")\n",
        "print(f\"Ret. OAEP: {D}\")"
      ]
    },
    {
      "cell_type": "markdown",
      "metadata": {
        "id": "ug2e_I03YoR1"
      },
      "source": [
        "## EMSA - PSS\n",
        "\n",
        "Utworzenie bezpiecznej sygnatury RSA wymaga zastowania algorytmu *Encoding Method for Signature with Appendix - Probabilistic Signature Scheme* ."
      ]
    },
    {
      "cell_type": "markdown",
      "metadata": {
        "id": "KrWpFTRHZSA7"
      },
      "source": [
        "### EMSA encoding"
      ]
    },
    {
      "cell_type": "markdown",
      "metadata": {
        "id": "bNPN9mqIZT5F"
      },
      "source": [
        "Parametry wejściowe:\n",
        "\n",
        "1) $H$ - funkcja skrótu SHA-256, oraz $hlen$ czyli długość zwracanego skrótu w bajtach.\n",
        "\n",
        "2) $slen$ - długość soli w bajtach, powinna być równa $hlen$.\n",
        "\n",
        "3) $M$ - bajty wiadomości do podpisania.\n",
        "\n",
        "4) $mgf1$ - Mask Generation Function 1.\n",
        "\n",
        "5) $emBits$ - pożądana długość sygnatury w bitach. Jest to najczęściej długość bitowa liczby modulus $n$ pomniejszona o jeden, czyli w naszym przypadku 2047.\n",
        "\n",
        "6) $emlen$ - długość sygnatury w bajtach, równa długości parametru $n$ wyrażonego w bajtach.\n"
      ]
    },
    {
      "cell_type": "markdown",
      "metadata": {
        "id": "6-0Vzuzf_f81"
      },
      "source": [
        "Algorytm:\n",
        "\n",
        "1) Oblicz: $mHash = H(M)$.\n",
        "\n",
        "2) Jeżeli $emlen < hlen + slen + 2$ **zakończ i zwróć błąd**.\n",
        "\n",
        "3) Wygeneruj tablicę losowych bajtów $salt$ o długości $slen$.\n",
        "\n",
        "4) Oblicz: $M' = 0x00 00 00 00 00 00 00 00 || mHash || salt$. Długość $M'$ to $8 + hlen + slen$.\n",
        "\n",
        "5) Oblicz: $mHash' = H(M')$.\n",
        "\n",
        "6) Wygeneruj tablicę $PS$ składającą się z bajtów 0x00 o długości $emlen - slen - hlen - 2$.\n",
        "\n",
        "7) Oblicz: $DB = PS || 0x01 || salt$. Długość $DB$ powinna wynosić $emlen - hlen - 1$ bajtów.\n",
        "\n",
        "8) Oblicz: $dbMask = mgf1(mHash', emlen - hlen - 1)$.\n",
        "\n",
        "9) Oblicz: $maskedDB = DB ⊕ dbMask$.\n",
        "\n",
        "10) Ustaw $8 * emlen - emBits$ **najbardziej znaczących** bitów $maskedDB$ na wartości 0.\n",
        "\n",
        "11) Oblicz: $EM = maskedDB || mHash' || 0xbc$.\n",
        "\n",
        "12) Zwróć $EM$.\n"
      ]
    },
    {
      "cell_type": "markdown",
      "metadata": {
        "id": "HWbbbw1DCGpr"
      },
      "source": [
        "## EMSA decoding"
      ]
    },
    {
      "cell_type": "markdown",
      "metadata": {
        "id": "xR6QyzduCIoc"
      },
      "source": [
        "Parametry wejściowe:\n",
        "\n",
        "1) $H$ - funkcja skrótu SHA-256, oraz $hlen$ czyli długość zwracanego skrótu w bajtach.\n",
        "\n",
        "2) $slen$ - długość soli w bajtach, powinna być równa $hlen$.\n",
        "\n",
        "3) $EM$ - sygnatura wiadomości $M$.\n",
        "\n",
        "4) $M$ - bajty wiadomości do weryfikacji.\n",
        "\n",
        "4) $mgf1$ - Mask Generation Function 1.\n",
        "\n",
        "5) $emBits$ - długość sygnatury w bitach. Jest to najczęściej długość bitowa liczby modulus $n$ pomniejszona o jeden, czyli w naszym przypadku 2047.\n",
        "\n",
        "6) $emlen$ - długość sygnatury w bajtach, równa długości parametru $n$ wyrażonego w bajtach."
      ]
    },
    {
      "cell_type": "markdown",
      "metadata": {
        "id": "MqZUQgT6CspI"
      },
      "source": [
        "Algorytm:\n",
        "\n",
        "1) Oblicz: $mHash = H(M)$.\n",
        "\n",
        "2) Jeżeli $emlen < hlen + slen + 2$ **zakończ i zwróć błąd weryfikacji**.\n",
        "\n",
        "3) Jeżeli ostatni bajt (najmniej znaczący) $EM$ nie ma wartości 0xbc **zakończ i zwróć błąd weryfikacji**.\n",
        "\n",
        "4) Podstaw $emlen - hlen - 1$ najbardziej znaczących bajtów do $maskedDB$ oraz kolejne $hlen$ bajtów do $mHash'$.\n",
        "\n",
        "5) Jeżeli $8 * emlen - emBits$ najbardziej znaczących bitów $maskedDB$ nie ma wartości 0, **zakończ i zwróć błąd weryfikacji**.\n",
        "\n",
        "6) Oblicz: $dbMask = mgf1(mHash', emlen - hlen - 1)$.\n",
        "\n",
        "7) Oblicz: $DB = maskedDB ⊕ dbMask$.\n",
        "\n",
        "8) Ustaw $8 * emlen - emBits$ najbardziej znaczących bitów $DB$ na 0.\n",
        "\n",
        "9) Jeżeli $emlen - hlen - slen - 2$ najbardziej znaczących bajtów $DB$ nie posiada wartości 0x00 lub gdy bajt na pozycji $emlen - hlen - slen - 1$ (licząc od najbardziej znaczącego) nie posiada wartości 0x01 **zakończ i zwróć błąd weryfikacji**.\n",
        "\n",
        "10) Przypisz do zmiennej $salt$ dokładnie $slen$ najmniej znaczących bajtów $DB$.\n",
        "\n",
        "11) Oblicz: $M' = 0x00 00 00 00 00 00 00 00 || mHash || salt$. Długość $M'$ to $8 + hlen + slen$.\n",
        "\n",
        "12) Oblicz $mHash'' = H(M')$.\n",
        "\n",
        "13) Jeżeli $mHash' \\neq mHash''$ **zakończ i zwróć błąd weryfikacji**, w przeciwnym razie **weryfikacja powiodła się**.\n"
      ]
    },
    {
      "cell_type": "markdown",
      "metadata": {
        "id": "wrxJHSkyIvz5"
      },
      "source": [
        "**Zadanie 7**\n",
        "\n",
        "Zaprogramuj kodowanie i dekodowanie EMSA, a następnie popraw algorytmy tworzenia i weryfikacji podpisu cyfrowego RSA. Tworzenie podpisu powinno wyglądać tak, że wiadomość najpierw jest kodowana z wykorzystaniem EMSA, a później tworzony jest popdis z wykorzystaniem klucza prywatnego. Dekodowanie powinno wyglądać tak, że najpierw używany jest klucz publiczny do odtworzenia podpisu EMSA, a następnie wykorzystywane jest dekodowanie EMSA w celu weryfikacji."
      ]
    },
    {
      "cell_type": "code",
      "execution_count": 70,
      "metadata": {
        "id": "S-TbQA4NJrl3"
      },
      "outputs": [],
      "source": [
        "# Your code here\n",
        "def enc_emsa_pss(M, slen, emBits, emlen, H=None):\n",
        "    if H is None:\n",
        "        H = lambda mb: hl.sha3_256(mb).digest()\n",
        "        hlen = 256 // 8\n",
        "    \n",
        "    if type(M) == str:\n",
        "        M = M.encode()\n",
        "        \n",
        "    mHash = H(M)\n",
        "    assert emlen >= hlen + slen + 2\n",
        "    salt = cu.Random.get_random_bytes(slen)\n",
        "\n",
        "    M_ = bytes([0x00] * 8) + mHash + salt\n",
        "    assert len(M_) == 8 + hlen + slen\n",
        "    mHash_ = H(M_)\n",
        "    PS = bytes([0x00] * (emlen - slen - hlen - 2))\n",
        "    DB = PS + bytes([0x01]) + salt\n",
        "    assert len(DB) == emlen - hlen - 1\n",
        "    assert DB[emlen - hlen - slen - 2] == 1\n",
        "    \n",
        "    dbMask = mgf1(mHash_, rlen=(emlen - hlen - 1))\n",
        "    # print(len(mHash_), len(dbMask), emlen - hlen - 1)\n",
        "    assert len(dbMask) == emlen - hlen - 1\n",
        "    maskedDB = np.array([a ^ b for a,b in zip(DB, dbMask)], dtype=np.uint8)\n",
        "    \n",
        "    ft = (8*emlen - emBits) // 8\n",
        "    rt = (8*emlen - emBits) % 8\n",
        "    maskedDB[:ft] = 0\n",
        "    maskedDB[ft] <<= rt\n",
        "    maskedDB[ft] >>= rt\n",
        "\n",
        "    maskedDB = bytes(maskedDB)\n",
        "    EM = maskedDB + mHash_ + bytes([0xbc])\n",
        "    assert EM[-1] == 0xbc\n",
        "    return EM\n",
        "\n",
        "def dec_emsa_pss(EM, M, slen, emBits, emlen, H=None):\n",
        "    if H is None:\n",
        "        H = lambda mb: hl.sha3_256(mb).digest()\n",
        "        hlen = 256 // 8\n",
        "    \n",
        "    if type(M) == str:\n",
        "        Mb = M.encode()\n",
        "    else:\n",
        "        Mb = M\n",
        "        \n",
        "    mHash = H(Mb)\n",
        "    assert emlen >= hlen + slen + 2\n",
        "    assert EM[-1] == 0xbc\n",
        "    s = emlen - hlen - 1\n",
        "    maskedDB, mHash_ = EM[:s], EM[s:s+hlen]\n",
        "\n",
        "    ft = (8*emlen - emBits) // 8\n",
        "    rt = (8*emlen - emBits) % 8\n",
        "\n",
        "    assert sum(list(maskedDB[:ft])) == 0\n",
        "    assert maskedDB[ft] >> (8 - rt) == 0\n",
        "    dbMask = mgf1(mHash_, emlen - hlen - 1)\n",
        "    DB = np.array([a ^ b for a,b in zip(maskedDB, dbMask)], dtype=np.uint8)\n",
        "\n",
        "    DB[:ft] = 0\n",
        "    DB[ft] <<= rt\n",
        "    DB[ft] >>= rt\n",
        "\n",
        "    if DB[:emlen - hlen - slen - 2].sum() > 0:\n",
        "        print(emlen - hlen - slen - 2)\n",
        "        print(list(DB[:emlen - hlen - slen - 2]))\n",
        "    assert DB[:emlen - hlen - slen - 2].sum() == 0\n",
        "    assert DB[emlen - hlen - slen - 2] == 1\n",
        "    \n",
        "    DB = bytes(DB)\n",
        "    salt = DB[-slen:]\n",
        "    M_ = bytes([0x00] * 8) + mHash + salt\n",
        "\n",
        "    assert len(M_) == 8 + hlen + slen\n",
        "    mHash_2 = H(M_)\n",
        "    return mHash_ == mHash_2"
      ]
    },
    {
      "cell_type": "code",
      "execution_count": 71,
      "metadata": {},
      "outputs": [],
      "source": [
        "# emsa debug\n",
        "M = \"Ala ma podpis\"\n",
        "for i in range(1000):\n",
        "    # print(f\"iter-{i}\")\n",
        "    EM = enc_emsa_pss(M, slen=256//8, emBits=2047, emlen=2048//8)\n",
        "    # print(EM)\n",
        "    r = dec_emsa_pss(EM, M, slen=256//8, emBits=2047, emlen=2048//8)\n",
        "    assert r"
      ]
    },
    {
      "cell_type": "code",
      "execution_count": 72,
      "metadata": {},
      "outputs": [],
      "source": [
        "# debug RSA\n",
        "# M = \"Ala ma podpis\"\n",
        "# priv_k, pub_k = generate_rsa_pair(4096)\n",
        "\n",
        "# for _ in  range(1000):\n",
        "#     EM = enc_emsa_pss(M, slen=256//8, emBits=2047, emlen=2048//8)\n",
        "#     assert dec_emsa_pss(EM, M, slen=256//8, emBits=2047, emlen=2048//8)\n",
        "    \n",
        "#     em_long = cu.bytes_to_long(EM)\n",
        "#     assert cu.long_to_bytes(em_long, len(EM)) == EM\n",
        "    \n",
        "#     enc_em_long = pow(em_long, *pub_k)\n",
        "#     dec_em_long = pow(enc_em_long, *priv_k)\n",
        "\n",
        "#     decEM = cu.long_to_bytes(dec_em_long, len(EM))\n",
        "\n",
        "#     eq = (decEM == EM)\n",
        "#     if not eq:\n",
        "#         print(type(EM), EM)\n",
        "#         print(type(decEM), decEM)\n",
        "#         print(enc_em_long)\n",
        "#         print(dec_em_long)\n",
        "#         print(em_long)\n",
        "#     assert em_long == dec_em_long\n",
        "#     assert eq\n",
        "\n",
        "#     assert len(decEM) == 2048 // 8\n",
        "#     assert dec_emsa_pss(decEM, M, slen=256//8, emBits=2047, emlen=2048//8)"
      ]
    },
    {
      "cell_type": "code",
      "execution_count": 73,
      "metadata": {},
      "outputs": [],
      "source": [
        "def rsa_fingerprint(M, priv_k):\n",
        "    d, n = priv_k\n",
        "    EM = enc_emsa_pss(M, slen=256//8, emBits=2047, emlen=2048//8)\n",
        "    EM = cu.bytes_to_long(EM)\n",
        "    eEM = pow(EM, d, n)\n",
        "    return eEM\n",
        "\n",
        "def verify_rsa_fingerprint(M, eEM, pub_k):\n",
        "    e, n = pub_k\n",
        "    EM = pow(eEM, e, n)\n",
        "    EM = cu.long_to_bytes(EM)\n",
        "    assert len(EM) == 2048 // 8\n",
        "    return dec_emsa_pss(EM, M, slen=256//8, emBits=2047, emlen=2048//8)"
      ]
    },
    {
      "cell_type": "code",
      "execution_count": 74,
      "metadata": {},
      "outputs": [],
      "source": [
        "priv_k, pub_k = generate_rsa_pair(4096)"
      ]
    },
    {
      "cell_type": "code",
      "execution_count": 75,
      "metadata": {},
      "outputs": [
        {
          "name": "stdout",
          "output_type": "stream",
          "text": [
            "b'f\\x1a\\xd8m\\rCy=\\xe5Z\\x8d@\\x13\\x9f\\x1bn\\xef8\\xff\\x13d\\xde2\\x00\\xca6{\\xd3\\xcc\\x1c\\xaaDr\\xb7\\x9a\\x18\\xd9\\xc1s\\xfcG\\xb8\\xd0ne0\\xfa\\xf4\\xd4e\\xc7\\x907\\x93ZF\\x9c9\\xb8\\xa0\\xcb\\xc1\\x0e\\xe1`\\x8d\\xf9\\xab\\xd1\\xcd\\x0f\\x9b\\x91Gw.,Tp\\x1a%\\x9b\\xbc\\xc4\\xc6\\xfb6RR_\\x0b\\x84\\x97\\xf89\\t<dy\\x8dMJ\\x0f\\x9e\\xa6\\xee\\xeb\\x07\\x0e&\\xc4\\xcd\\xbdh~\\xcb\\xfc\\xa5\\x10o\\x97\\xeb\\xa8-\\xbad\\x91\\x01\\x15k\\xee\\x9d\\xa7\\xa3\\xfcMc6\\xb9\\xb2R.\\xa0\\xf0M4e9\\x83:\\x07\\x8b\\xb8K\\xf2\\x17U\\\\^\\xf0\\xd8%\\xc2\\xc0\\xd8\\x90\\xb5\\xac3\\xc3,\\x10\\x8dC\\xa3\\xdb\\x9b,4AU)52\\x0b\\x81\\x9ch\\xbd\\x19U\\x7f\\xfd e\\x98\\xcf\\x93\\xfb{0\\x85m\\xcd\\xd3u\\x1c\\x1a\\x8c\\xf7\\xfbt\\x11\\\\\\xc2\\xde^\\xc0\\x08\\x81\\x14Q\\x8b\\xe92\\x9bg\\xf3\\xd2D\\xfd\\xc2\\xe3\\x83\\x86\\xf5TX\\x83\\xe0\\x00@^\\xa9\\xcd$\\x91\\xc5\\x98\\x89\\x8a\\xc2\\x9c\\t\\xc9\\xbc'\n"
          ]
        },
        {
          "data": {
            "text/plain": [
              "True"
            ]
          },
          "execution_count": 75,
          "metadata": {},
          "output_type": "execute_result"
        }
      ],
      "source": [
        "eEM = rsa_fingerprint(M, priv_k)\n",
        "print(EM)\n",
        "verify_rsa_fingerprint(M, eEM, pub_k)"
      ]
    },
    {
      "cell_type": "markdown",
      "metadata": {
        "id": "d7txLS64JZI-"
      },
      "source": [
        "## RSA - KEM\n",
        "\n",
        "RSA - KEM, czyli z ang. *Key Encapsulation Mechanism* to prosty algorytm dedykowany do wymiany klucza symetrycznego. Obie strony dysponują uzgodnioną funkcją skótu H. Instancja, która chce **otrzymać** tajny klucz do komunikacji symetrycznej generuje klucze RSA i udostępnia swój klucz publiczny. Instancja, która chce wygenerować tajny klucz do komunikacji symetrycznej dysponuje kluczem publicznym instancji, która chce go otrzymać."
      ]
    },
    {
      "cell_type": "markdown",
      "metadata": {
        "id": "tl7cu30PJ1lk"
      },
      "source": [
        "Instancja generująca klucz symetryczny:\n",
        "\n",
        "1) Znajdź losową liczbę $RAND$ spełniającą warunki OAEP.\n",
        "\n",
        "2) Oblicz: $KEY = H(RAND)$. Jeżeli trzeba, przytnij $KEY$ do odpowiedniej długości.\n",
        "\n",
        "3) Oblicz: $CIPHERED\\_KEY = RSA\\_OAEP\\_ENCODING(KEY, (e, n))$.\n",
        "\n",
        "4) Wyślij $CIPHERED\\_KEY$."
      ]
    },
    {
      "cell_type": "markdown",
      "metadata": {
        "id": "oFB9JAwULw70"
      },
      "source": [
        "Instancja otrzymująca zaszyfrowany klucz symetryczny:\n",
        "\n",
        "1) Oblicz: $KEY = RSA\\_OAEP\\_DECODING(CIPHERED\\_KEY, (d, n))$\n",
        "\n",
        "2) Jeżeli trzeba przytnij $KEY$ do odpowiedniej długości."
      ]
    },
    {
      "cell_type": "markdown",
      "metadata": {
        "id": "386c_pDZMSRG"
      },
      "source": [
        "Np. AES występuje w wersji 128b, 192b i 256b. Jeżeli jako H przyjmiemy więc SHA-256, nie trzeba przycinać klucza dla algorytmu AES-256. W przeciwnym razie należy klucz odpowiednio przyciąć (z lewej lub prawej, byle obie strony tak samo) i to ta wartość staje się kluczem symetrycznym."
      ]
    },
    {
      "cell_type": "markdown",
      "metadata": {
        "id": "7N66NPBBMpLS"
      },
      "source": [
        "**Zadanie 8**\n",
        "\n",
        "Zasymuluj takową wymianę (bez przycinania klucza)."
      ]
    },
    {
      "cell_type": "code",
      "execution_count": 76,
      "metadata": {
        "id": "Td_Qg2zlMuRt"
      },
      "outputs": [],
      "source": [
        "# Your code here\n",
        "\n",
        "H = lambda mb: hl.sha3_256(mb).digest()\n",
        "def gen_ins(pub_k):\n",
        "    rand = cu.Random.get_random_bytes(32)\n",
        "    key = H(rand)\n",
        "    return key, len(key), enc_with_oaep(key, pub_k)\n",
        "\n",
        "def res_ins(secret, priv_k, mlen):\n",
        "    key = dec_with_oaep(secret, priv_k, mlen=mlen)\n",
        "    return key"
      ]
    },
    {
      "cell_type": "code",
      "execution_count": 77,
      "metadata": {},
      "outputs": [],
      "source": [
        "priv_k, pub_k = generate_rsa_pair(2048)\n",
        "key, mlen, secret = gen_ins(pub_k)\n",
        "key2 = res_ins(secret, priv_k, mlen)\n",
        "\n",
        "assert key == key2"
      ]
    },
    {
      "cell_type": "code",
      "execution_count": null,
      "metadata": {},
      "outputs": [],
      "source": []
    }
  ],
  "metadata": {
    "colab": {
      "provenance": []
    },
    "kernelspec": {
      "display_name": "Python 3",
      "name": "python3"
    },
    "language_info": {
      "codemirror_mode": {
        "name": "ipython",
        "version": 3
      },
      "file_extension": ".py",
      "mimetype": "text/x-python",
      "name": "python",
      "nbconvert_exporter": "python",
      "pygments_lexer": "ipython3",
      "version": "3.10.8"
    }
  },
  "nbformat": 4,
  "nbformat_minor": 0
}
